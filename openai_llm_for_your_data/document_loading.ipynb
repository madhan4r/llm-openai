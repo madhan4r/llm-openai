{
 "cells": [
  {
   "cell_type": "markdown",
   "metadata": {},
   "source": [
    "# Document Loading"
   ]
  },
  {
   "cell_type": "markdown",
   "metadata": {},
   "source": [
    "## Note to students.\n",
    "During periods of high load you may find the notebook unresponsive. It may appear to execute a cell, update the completion number in brackets [#] at the left of the cell but you may find the cell has not executed. This is particularly obvious on print statements when there is no output. If this happens, restart the kernel using the command under the Kernel tab."
   ]
  },
  {
   "cell_type": "markdown",
   "metadata": {},
   "source": [
    "## Retrieval augmented generation\n",
    " \n",
    "In retrieval augmented generation (RAG), an LLM retrieves contextual documents from an external dataset as part of its execution. \n",
    "\n",
    "This is useful if we want to ask question about specific documents (e.g., our PDFs, a set of videos, etc). "
   ]
  },
  {
   "cell_type": "code",
   "execution_count": 2,
   "metadata": {},
   "outputs": [],
   "source": [
    "import os\n",
    "import openai\n",
    "import sys\n",
    "sys.path.append('../..')\n",
    "\n",
    "from dotenv import load_dotenv, find_dotenv\n",
    "_ = load_dotenv(find_dotenv()) # read local .env file\n",
    "\n",
    "openai.api_key  = os.environ['OPENAI_API_KEY']"
   ]
  },
  {
   "cell_type": "markdown",
   "metadata": {},
   "source": [
    "## PDFs\n",
    "\n",
    "Let's load a PDF [transcript](https://see.stanford.edu/materials/aimlcs229/transcripts/MachineLearning-Lecture01.pdf) from Andrew Ng's famous CS229 course! These documents are the result of automated transcription so words and sentences are sometimes split unexpectedly."
   ]
  },
  {
   "cell_type": "code",
   "execution_count": 3,
   "metadata": {},
   "outputs": [],
   "source": [
    "# The course will show the pip installs you would need to install packages on your own machine.\n",
    "# These packages are already installed on this platform and should not be run again.\n",
    "#! pip install pypdf "
   ]
  },
  {
   "cell_type": "code",
   "execution_count": 5,
   "metadata": {},
   "outputs": [],
   "source": [
    "from langchain.document_loaders import PyPDFLoader\n",
    "loader = PyPDFLoader(\"docs/machine_learning_lecture.pdf\")\n",
    "pages = loader.load()"
   ]
  },
  {
   "cell_type": "markdown",
   "metadata": {},
   "source": [
    "Each page is a `Document`.\n",
    "\n",
    "A `Document` contains text (`page_content`) and `metadata`."
   ]
  },
  {
   "cell_type": "code",
   "execution_count": 6,
   "metadata": {},
   "outputs": [
    {
     "data": {
      "text/plain": [
       "70"
      ]
     },
     "execution_count": 6,
     "metadata": {},
     "output_type": "execute_result"
    }
   ],
   "source": [
    "len(pages)"
   ]
  },
  {
   "cell_type": "code",
   "execution_count": 7,
   "metadata": {},
   "outputs": [],
   "source": [
    "page = pages[0]"
   ]
  },
  {
   "cell_type": "code",
   "execution_count": 8,
   "metadata": {},
   "outputs": [
    {
     "name": "stdout",
     "output_type": "stream",
     "text": [
      "Machine Learning\n",
      "Basic Concepts\n",
      "Feature'2'\n",
      "Feature'1'\n",
      "!\"#$%&\"'('\n",
      "!\"#$%&\"')'\n",
      "*\"+,-,./'0.%/1#&2'\n",
      "\n"
     ]
    }
   ],
   "source": [
    "print(page.page_content[0:500])"
   ]
  },
  {
   "cell_type": "code",
   "execution_count": 9,
   "metadata": {},
   "outputs": [
    {
     "data": {
      "text/plain": [
       "{'source': 'docs/machine_learning_lecture.pdf', 'page': 0}"
      ]
     },
     "execution_count": 9,
     "metadata": {},
     "output_type": "execute_result"
    }
   ],
   "source": [
    "page.metadata"
   ]
  },
  {
   "cell_type": "markdown",
   "metadata": {},
   "source": [
    "## YouTube"
   ]
  },
  {
   "cell_type": "code",
   "execution_count": 10,
   "metadata": {},
   "outputs": [],
   "source": [
    "from langchain.document_loaders.generic import GenericLoader\n",
    "from langchain.document_loaders.parsers import OpenAIWhisperParser\n",
    "from langchain.document_loaders.blob_loaders.youtube_audio import YoutubeAudioLoader"
   ]
  },
  {
   "cell_type": "code",
   "execution_count": null,
   "metadata": {},
   "outputs": [],
   "source": [
    "# ! pip install yt_dlp\n",
    "# ! pip install pydub"
   ]
  },
  {
   "cell_type": "markdown",
   "metadata": {},
   "source": [
    "**Note**: This can take several minutes to complete."
   ]
  },
  {
   "cell_type": "code",
   "execution_count": 11,
   "metadata": {},
   "outputs": [
    {
     "name": "stdout",
     "output_type": "stream",
     "text": [
      "[youtube] Extracting URL: https://www.youtube.com/watch?v=jGwO_UgTS7I\n",
      "[youtube] jGwO_UgTS7I: Downloading webpage\n",
      "[youtube] jGwO_UgTS7I: Downloading ios player API JSON\n",
      "[youtube] jGwO_UgTS7I: Downloading android player API JSON\n",
      "[youtube] jGwO_UgTS7I: Downloading m3u8 information\n",
      "[info] jGwO_UgTS7I: Downloading 1 format(s): 140\n",
      "[download] Destination: docs\\youtube\\Stanford CS229： Machine Learning Course, Lecture 1 - Andrew Ng (Autumn 2018).m4a\n",
      "[download] 100% of   69.76MiB in 00:01:47 at 666.01KiB/s   \n"
     ]
    },
    {
     "name": "stderr",
     "output_type": "stream",
     "text": [
      "WARNING: jGwO_UgTS7I: writing DASH m4a. Only some players support this container. Install ffmpeg to fix this automatically\n",
      "ERROR: Postprocessing: ffprobe and ffmpeg not found. Please install or provide the path using --ffmpeg-location\n"
     ]
    },
    {
     "ename": "DownloadError",
     "evalue": "ERROR: Postprocessing: ffprobe and ffmpeg not found. Please install or provide the path using --ffmpeg-location",
     "output_type": "error",
     "traceback": [
      "\u001b[1;31m---------------------------------------------------------------------------\u001b[0m",
      "\u001b[1;31mPostProcessingError\u001b[0m                       Traceback (most recent call last)",
      "File \u001b[1;32md:\\Work\\R&D\\LLM\\venv\\Lib\\site-packages\\yt_dlp\\YoutubeDL.py:3439\u001b[0m, in \u001b[0;36mYoutubeDL.process_info\u001b[1;34m(self, info_dict)\u001b[0m\n\u001b[0;32m   3438\u001b[0m \u001b[39mtry\u001b[39;00m:\n\u001b[1;32m-> 3439\u001b[0m     replace_info_dict(\u001b[39mself\u001b[39;49m\u001b[39m.\u001b[39;49mpost_process(dl_filename, info_dict, files_to_move))\n\u001b[0;32m   3440\u001b[0m \u001b[39mexcept\u001b[39;00m PostProcessingError \u001b[39mas\u001b[39;00m err:\n",
      "File \u001b[1;32md:\\Work\\R&D\\LLM\\venv\\Lib\\site-packages\\yt_dlp\\YoutubeDL.py:3621\u001b[0m, in \u001b[0;36mYoutubeDL.post_process\u001b[1;34m(self, filename, info, files_to_move)\u001b[0m\n\u001b[0;32m   3620\u001b[0m info[\u001b[39m'\u001b[39m\u001b[39m__files_to_move\u001b[39m\u001b[39m'\u001b[39m] \u001b[39m=\u001b[39m files_to_move \u001b[39mor\u001b[39;00m {}\n\u001b[1;32m-> 3621\u001b[0m info \u001b[39m=\u001b[39m \u001b[39mself\u001b[39;49m\u001b[39m.\u001b[39;49mrun_all_pps(\u001b[39m'\u001b[39;49m\u001b[39mpost_process\u001b[39;49m\u001b[39m'\u001b[39;49m, info, additional_pps\u001b[39m=\u001b[39;49minfo\u001b[39m.\u001b[39;49mget(\u001b[39m'\u001b[39;49m\u001b[39m__postprocessors\u001b[39;49m\u001b[39m'\u001b[39;49m))\n\u001b[0;32m   3622\u001b[0m info \u001b[39m=\u001b[39m \u001b[39mself\u001b[39m\u001b[39m.\u001b[39mrun_pp(MoveFilesAfterDownloadPP(\u001b[39mself\u001b[39m), info)\n",
      "File \u001b[1;32md:\\Work\\R&D\\LLM\\venv\\Lib\\site-packages\\yt_dlp\\YoutubeDL.py:3603\u001b[0m, in \u001b[0;36mYoutubeDL.run_all_pps\u001b[1;34m(self, key, info, additional_pps)\u001b[0m\n\u001b[0;32m   3602\u001b[0m \u001b[39mfor\u001b[39;00m pp \u001b[39min\u001b[39;00m (additional_pps \u001b[39mor\u001b[39;00m []) \u001b[39m+\u001b[39m \u001b[39mself\u001b[39m\u001b[39m.\u001b[39m_pps[key]:\n\u001b[1;32m-> 3603\u001b[0m     info \u001b[39m=\u001b[39m \u001b[39mself\u001b[39;49m\u001b[39m.\u001b[39;49mrun_pp(pp, info)\n\u001b[0;32m   3604\u001b[0m \u001b[39mreturn\u001b[39;00m info\n",
      "File \u001b[1;32md:\\Work\\R&D\\LLM\\venv\\Lib\\site-packages\\yt_dlp\\YoutubeDL.py:3581\u001b[0m, in \u001b[0;36mYoutubeDL.run_pp\u001b[1;34m(self, pp, infodict)\u001b[0m\n\u001b[0;32m   3580\u001b[0m \u001b[39mtry\u001b[39;00m:\n\u001b[1;32m-> 3581\u001b[0m     files_to_delete, infodict \u001b[39m=\u001b[39m pp\u001b[39m.\u001b[39;49mrun(infodict)\n\u001b[0;32m   3582\u001b[0m \u001b[39mexcept\u001b[39;00m PostProcessingError \u001b[39mas\u001b[39;00m e:\n\u001b[0;32m   3583\u001b[0m     \u001b[39m# Must be True and not 'only_download'\u001b[39;00m\n",
      "File \u001b[1;32md:\\Work\\R&D\\LLM\\venv\\Lib\\site-packages\\yt_dlp\\postprocessor\\common.py:24\u001b[0m, in \u001b[0;36mPostProcessorMetaClass.run_wrapper.<locals>.run\u001b[1;34m(self, info, *args, **kwargs)\u001b[0m\n\u001b[0;32m     23\u001b[0m \u001b[39mself\u001b[39m\u001b[39m.\u001b[39m_hook_progress({\u001b[39m'\u001b[39m\u001b[39mstatus\u001b[39m\u001b[39m'\u001b[39m: \u001b[39m'\u001b[39m\u001b[39mstarted\u001b[39m\u001b[39m'\u001b[39m}, info_copy)\n\u001b[1;32m---> 24\u001b[0m ret \u001b[39m=\u001b[39m func(\u001b[39mself\u001b[39;49m, info, \u001b[39m*\u001b[39;49margs, \u001b[39m*\u001b[39;49m\u001b[39m*\u001b[39;49mkwargs)\n\u001b[0;32m     25\u001b[0m \u001b[39mif\u001b[39;00m ret \u001b[39mis\u001b[39;00m \u001b[39mnot\u001b[39;00m \u001b[39mNone\u001b[39;00m:\n",
      "File \u001b[1;32md:\\Work\\R&D\\LLM\\venv\\Lib\\site-packages\\yt_dlp\\postprocessor\\common.py:129\u001b[0m, in \u001b[0;36mPostProcessor._restrict_to.<locals>.decorator.<locals>.wrapper\u001b[1;34m(self, info)\u001b[0m\n\u001b[0;32m    128\u001b[0m \u001b[39mif\u001b[39;00m allowed[format_type]:\n\u001b[1;32m--> 129\u001b[0m     \u001b[39mreturn\u001b[39;00m func(\u001b[39mself\u001b[39;49m, info)\n\u001b[0;32m    130\u001b[0m \u001b[39melse\u001b[39;00m:\n",
      "File \u001b[1;32md:\\Work\\R&D\\LLM\\venv\\Lib\\site-packages\\yt_dlp\\postprocessor\\ffmpeg.py:493\u001b[0m, in \u001b[0;36mFFmpegExtractAudioPP.run\u001b[1;34m(self, information)\u001b[0m\n\u001b[0;32m    491\u001b[0m     \u001b[39mreturn\u001b[39;00m [], information\n\u001b[1;32m--> 493\u001b[0m filecodec \u001b[39m=\u001b[39m \u001b[39mself\u001b[39;49m\u001b[39m.\u001b[39;49mget_audio_codec(path)\n\u001b[0;32m    494\u001b[0m \u001b[39mif\u001b[39;00m filecodec \u001b[39mis\u001b[39;00m \u001b[39mNone\u001b[39;00m:\n",
      "File \u001b[1;32md:\\Work\\R&D\\LLM\\venv\\Lib\\site-packages\\yt_dlp\\postprocessor\\ffmpeg.py:241\u001b[0m, in \u001b[0;36mFFmpegPostProcessor.get_audio_codec\u001b[1;34m(self, path)\u001b[0m\n\u001b[0;32m    240\u001b[0m \u001b[39mif\u001b[39;00m \u001b[39mnot\u001b[39;00m \u001b[39mself\u001b[39m\u001b[39m.\u001b[39mprobe_available \u001b[39mand\u001b[39;00m \u001b[39mnot\u001b[39;00m \u001b[39mself\u001b[39m\u001b[39m.\u001b[39mavailable:\n\u001b[1;32m--> 241\u001b[0m     \u001b[39mraise\u001b[39;00m PostProcessingError(\u001b[39m'\u001b[39m\u001b[39mffprobe and ffmpeg not found. Please install or provide the path using --ffmpeg-location\u001b[39m\u001b[39m'\u001b[39m)\n\u001b[0;32m    242\u001b[0m \u001b[39mtry\u001b[39;00m:\n",
      "\u001b[1;31mPostProcessingError\u001b[0m: ffprobe and ffmpeg not found. Please install or provide the path using --ffmpeg-location",
      "\nDuring handling of the above exception, another exception occurred:\n",
      "\u001b[1;31mDownloadError\u001b[0m                             Traceback (most recent call last)",
      "Cell \u001b[1;32mIn[11], line 7\u001b[0m\n\u001b[0;32m      2\u001b[0m save_dir\u001b[39m=\u001b[39m\u001b[39m\"\u001b[39m\u001b[39mdocs/youtube/\u001b[39m\u001b[39m\"\u001b[39m\n\u001b[0;32m      3\u001b[0m loader \u001b[39m=\u001b[39m GenericLoader(\n\u001b[0;32m      4\u001b[0m     YoutubeAudioLoader([url],save_dir),\n\u001b[0;32m      5\u001b[0m     OpenAIWhisperParser()\n\u001b[0;32m      6\u001b[0m )\n\u001b[1;32m----> 7\u001b[0m docs \u001b[39m=\u001b[39m loader\u001b[39m.\u001b[39;49mload()\n",
      "File \u001b[1;32md:\\Work\\R&D\\LLM\\venv\\Lib\\site-packages\\langchain\\document_loaders\\generic.py:90\u001b[0m, in \u001b[0;36mGenericLoader.load\u001b[1;34m(self)\u001b[0m\n\u001b[0;32m     88\u001b[0m \u001b[39mdef\u001b[39;00m \u001b[39mload\u001b[39m(\u001b[39mself\u001b[39m) \u001b[39m-\u001b[39m\u001b[39m>\u001b[39m List[Document]:\n\u001b[0;32m     89\u001b[0m \u001b[39m    \u001b[39m\u001b[39m\"\"\"Load all documents.\"\"\"\u001b[39;00m\n\u001b[1;32m---> 90\u001b[0m     \u001b[39mreturn\u001b[39;00m \u001b[39mlist\u001b[39;49m(\u001b[39mself\u001b[39;49m\u001b[39m.\u001b[39;49mlazy_load())\n",
      "File \u001b[1;32md:\\Work\\R&D\\LLM\\venv\\Lib\\site-packages\\langchain\\document_loaders\\generic.py:85\u001b[0m, in \u001b[0;36mGenericLoader.lazy_load\u001b[1;34m(self)\u001b[0m\n\u001b[0;32m     81\u001b[0m \u001b[39mdef\u001b[39;00m \u001b[39mlazy_load\u001b[39m(\n\u001b[0;32m     82\u001b[0m     \u001b[39mself\u001b[39m,\n\u001b[0;32m     83\u001b[0m ) \u001b[39m-\u001b[39m\u001b[39m>\u001b[39m Iterator[Document]:\n\u001b[0;32m     84\u001b[0m \u001b[39m    \u001b[39m\u001b[39m\"\"\"Load documents lazily. Use this when working at a large scale.\"\"\"\u001b[39;00m\n\u001b[1;32m---> 85\u001b[0m     \u001b[39mfor\u001b[39;00m blob \u001b[39min\u001b[39;00m \u001b[39mself\u001b[39m\u001b[39m.\u001b[39mblob_loader\u001b[39m.\u001b[39myield_blobs():\n\u001b[0;32m     86\u001b[0m         \u001b[39myield from\u001b[39;00m \u001b[39mself\u001b[39m\u001b[39m.\u001b[39mblob_parser\u001b[39m.\u001b[39mlazy_parse(blob)\n",
      "File \u001b[1;32md:\\Work\\R&D\\LLM\\venv\\Lib\\site-packages\\langchain\\document_loaders\\blob_loaders\\youtube_audio.py:45\u001b[0m, in \u001b[0;36mYoutubeAudioLoader.yield_blobs\u001b[1;34m(self)\u001b[0m\n\u001b[0;32m     42\u001b[0m \u001b[39mfor\u001b[39;00m url \u001b[39min\u001b[39;00m \u001b[39mself\u001b[39m\u001b[39m.\u001b[39murls:\n\u001b[0;32m     43\u001b[0m     \u001b[39m# Download file\u001b[39;00m\n\u001b[0;32m     44\u001b[0m     \u001b[39mwith\u001b[39;00m yt_dlp\u001b[39m.\u001b[39mYoutubeDL(ydl_opts) \u001b[39mas\u001b[39;00m ydl:\n\u001b[1;32m---> 45\u001b[0m         ydl\u001b[39m.\u001b[39;49mdownload(url)\n\u001b[0;32m     47\u001b[0m \u001b[39m# Yield the written blobs\u001b[39;00m\n\u001b[0;32m     48\u001b[0m loader \u001b[39m=\u001b[39m FileSystemBlobLoader(\u001b[39mself\u001b[39m\u001b[39m.\u001b[39msave_dir, glob\u001b[39m=\u001b[39m\u001b[39m\"\u001b[39m\u001b[39m*.m4a\u001b[39m\u001b[39m\"\u001b[39m)\n",
      "File \u001b[1;32md:\\Work\\R&D\\LLM\\venv\\Lib\\site-packages\\yt_dlp\\YoutubeDL.py:3485\u001b[0m, in \u001b[0;36mYoutubeDL.download\u001b[1;34m(self, url_list)\u001b[0m\n\u001b[0;32m   3482\u001b[0m     \u001b[39mraise\u001b[39;00m SameFileError(outtmpl)\n\u001b[0;32m   3484\u001b[0m \u001b[39mfor\u001b[39;00m url \u001b[39min\u001b[39;00m url_list:\n\u001b[1;32m-> 3485\u001b[0m     \u001b[39mself\u001b[39;49m\u001b[39m.\u001b[39;49m__download_wrapper(\u001b[39mself\u001b[39;49m\u001b[39m.\u001b[39;49mextract_info)(\n\u001b[0;32m   3486\u001b[0m         url, force_generic_extractor\u001b[39m=\u001b[39;49m\u001b[39mself\u001b[39;49m\u001b[39m.\u001b[39;49mparams\u001b[39m.\u001b[39;49mget(\u001b[39m'\u001b[39;49m\u001b[39mforce_generic_extractor\u001b[39;49m\u001b[39m'\u001b[39;49m, \u001b[39mFalse\u001b[39;49;00m))\n\u001b[0;32m   3488\u001b[0m \u001b[39mreturn\u001b[39;00m \u001b[39mself\u001b[39m\u001b[39m.\u001b[39m_download_retcode\n",
      "File \u001b[1;32md:\\Work\\R&D\\LLM\\venv\\Lib\\site-packages\\yt_dlp\\YoutubeDL.py:3460\u001b[0m, in \u001b[0;36mYoutubeDL.__download_wrapper.<locals>.wrapper\u001b[1;34m(*args, **kwargs)\u001b[0m\n\u001b[0;32m   3457\u001b[0m \u001b[39m@functools\u001b[39m\u001b[39m.\u001b[39mwraps(func)\n\u001b[0;32m   3458\u001b[0m \u001b[39mdef\u001b[39;00m \u001b[39mwrapper\u001b[39m(\u001b[39m*\u001b[39margs, \u001b[39m*\u001b[39m\u001b[39m*\u001b[39mkwargs):\n\u001b[0;32m   3459\u001b[0m     \u001b[39mtry\u001b[39;00m:\n\u001b[1;32m-> 3460\u001b[0m         res \u001b[39m=\u001b[39m func(\u001b[39m*\u001b[39;49margs, \u001b[39m*\u001b[39;49m\u001b[39m*\u001b[39;49mkwargs)\n\u001b[0;32m   3461\u001b[0m     \u001b[39mexcept\u001b[39;00m UnavailableVideoError \u001b[39mas\u001b[39;00m e:\n\u001b[0;32m   3462\u001b[0m         \u001b[39mself\u001b[39m\u001b[39m.\u001b[39mreport_error(e)\n",
      "File \u001b[1;32md:\\Work\\R&D\\LLM\\venv\\Lib\\site-packages\\yt_dlp\\YoutubeDL.py:1549\u001b[0m, in \u001b[0;36mYoutubeDL.extract_info\u001b[1;34m(self, url, download, ie_key, extra_info, process, force_generic_extractor)\u001b[0m\n\u001b[0;32m   1547\u001b[0m             \u001b[39mraise\u001b[39;00m ExistingVideoReached()\n\u001b[0;32m   1548\u001b[0m         \u001b[39mbreak\u001b[39;00m\n\u001b[1;32m-> 1549\u001b[0m     \u001b[39mreturn\u001b[39;00m \u001b[39mself\u001b[39;49m\u001b[39m.\u001b[39;49m__extract_info(url, \u001b[39mself\u001b[39;49m\u001b[39m.\u001b[39;49mget_info_extractor(key), download, extra_info, process)\n\u001b[0;32m   1550\u001b[0m \u001b[39melse\u001b[39;00m:\n\u001b[0;32m   1551\u001b[0m     extractors_restricted \u001b[39m=\u001b[39m \u001b[39mself\u001b[39m\u001b[39m.\u001b[39mparams\u001b[39m.\u001b[39mget(\u001b[39m'\u001b[39m\u001b[39mallowed_extractors\u001b[39m\u001b[39m'\u001b[39m) \u001b[39mnot\u001b[39;00m \u001b[39min\u001b[39;00m (\u001b[39mNone\u001b[39;00m, [\u001b[39m'\u001b[39m\u001b[39mdefault\u001b[39m\u001b[39m'\u001b[39m])\n",
      "File \u001b[1;32md:\\Work\\R&D\\LLM\\venv\\Lib\\site-packages\\yt_dlp\\YoutubeDL.py:1560\u001b[0m, in \u001b[0;36mYoutubeDL._handle_extraction_exceptions.<locals>.wrapper\u001b[1;34m(self, *args, **kwargs)\u001b[0m\n\u001b[0;32m   1558\u001b[0m \u001b[39mwhile\u001b[39;00m \u001b[39mTrue\u001b[39;00m:\n\u001b[0;32m   1559\u001b[0m     \u001b[39mtry\u001b[39;00m:\n\u001b[1;32m-> 1560\u001b[0m         \u001b[39mreturn\u001b[39;00m func(\u001b[39mself\u001b[39;49m, \u001b[39m*\u001b[39;49margs, \u001b[39m*\u001b[39;49m\u001b[39m*\u001b[39;49mkwargs)\n\u001b[0;32m   1561\u001b[0m     \u001b[39mexcept\u001b[39;00m (DownloadCancelled, LazyList\u001b[39m.\u001b[39mIndexError, PagedList\u001b[39m.\u001b[39mIndexError):\n\u001b[0;32m   1562\u001b[0m         \u001b[39mraise\u001b[39;00m\n",
      "File \u001b[1;32md:\\Work\\R&D\\LLM\\venv\\Lib\\site-packages\\yt_dlp\\YoutubeDL.py:1709\u001b[0m, in \u001b[0;36mYoutubeDL.__extract_info\u001b[1;34m(self, url, ie, download, extra_info, process)\u001b[0m\n\u001b[0;32m   1707\u001b[0m \u001b[39mif\u001b[39;00m process:\n\u001b[0;32m   1708\u001b[0m     \u001b[39mself\u001b[39m\u001b[39m.\u001b[39m_wait_for_video(ie_result)\n\u001b[1;32m-> 1709\u001b[0m     \u001b[39mreturn\u001b[39;00m \u001b[39mself\u001b[39;49m\u001b[39m.\u001b[39;49mprocess_ie_result(ie_result, download, extra_info)\n\u001b[0;32m   1710\u001b[0m \u001b[39melse\u001b[39;00m:\n\u001b[0;32m   1711\u001b[0m     \u001b[39mreturn\u001b[39;00m ie_result\n",
      "File \u001b[1;32md:\\Work\\R&D\\LLM\\venv\\Lib\\site-packages\\yt_dlp\\YoutubeDL.py:1768\u001b[0m, in \u001b[0;36mYoutubeDL.process_ie_result\u001b[1;34m(self, ie_result, download, extra_info)\u001b[0m\n\u001b[0;32m   1766\u001b[0m \u001b[39mif\u001b[39;00m result_type \u001b[39m==\u001b[39m \u001b[39m'\u001b[39m\u001b[39mvideo\u001b[39m\u001b[39m'\u001b[39m:\n\u001b[0;32m   1767\u001b[0m     \u001b[39mself\u001b[39m\u001b[39m.\u001b[39madd_extra_info(ie_result, extra_info)\n\u001b[1;32m-> 1768\u001b[0m     ie_result \u001b[39m=\u001b[39m \u001b[39mself\u001b[39;49m\u001b[39m.\u001b[39;49mprocess_video_result(ie_result, download\u001b[39m=\u001b[39;49mdownload)\n\u001b[0;32m   1769\u001b[0m     \u001b[39mself\u001b[39m\u001b[39m.\u001b[39m_raise_pending_errors(ie_result)\n\u001b[0;32m   1770\u001b[0m     additional_urls \u001b[39m=\u001b[39m (ie_result \u001b[39mor\u001b[39;00m {})\u001b[39m.\u001b[39mget(\u001b[39m'\u001b[39m\u001b[39madditional_urls\u001b[39m\u001b[39m'\u001b[39m)\n",
      "File \u001b[1;32md:\\Work\\R&D\\LLM\\venv\\Lib\\site-packages\\yt_dlp\\YoutubeDL.py:2897\u001b[0m, in \u001b[0;36mYoutubeDL.process_video_result\u001b[1;34m(self, info_dict, download)\u001b[0m\n\u001b[0;32m   2895\u001b[0m downloaded_formats\u001b[39m.\u001b[39mappend(new_info)\n\u001b[0;32m   2896\u001b[0m \u001b[39mtry\u001b[39;00m:\n\u001b[1;32m-> 2897\u001b[0m     \u001b[39mself\u001b[39;49m\u001b[39m.\u001b[39;49mprocess_info(new_info)\n\u001b[0;32m   2898\u001b[0m \u001b[39mexcept\u001b[39;00m MaxDownloadsReached:\n\u001b[0;32m   2899\u001b[0m     max_downloads_reached \u001b[39m=\u001b[39m \u001b[39mTrue\u001b[39;00m\n",
      "File \u001b[1;32md:\\Work\\R&D\\LLM\\venv\\Lib\\site-packages\\yt_dlp\\YoutubeDL.py:3441\u001b[0m, in \u001b[0;36mYoutubeDL.process_info\u001b[1;34m(self, info_dict)\u001b[0m\n\u001b[0;32m   3439\u001b[0m     replace_info_dict(\u001b[39mself\u001b[39m\u001b[39m.\u001b[39mpost_process(dl_filename, info_dict, files_to_move))\n\u001b[0;32m   3440\u001b[0m \u001b[39mexcept\u001b[39;00m PostProcessingError \u001b[39mas\u001b[39;00m err:\n\u001b[1;32m-> 3441\u001b[0m     \u001b[39mself\u001b[39;49m\u001b[39m.\u001b[39;49mreport_error(\u001b[39m'\u001b[39;49m\u001b[39mPostprocessing: \u001b[39;49m\u001b[39m%s\u001b[39;49;00m\u001b[39m'\u001b[39;49m \u001b[39m%\u001b[39;49m \u001b[39mstr\u001b[39;49m(err))\n\u001b[0;32m   3442\u001b[0m     \u001b[39mreturn\u001b[39;00m\n\u001b[0;32m   3443\u001b[0m \u001b[39mtry\u001b[39;00m:\n",
      "File \u001b[1;32md:\\Work\\R&D\\LLM\\venv\\Lib\\site-packages\\yt_dlp\\YoutubeDL.py:1042\u001b[0m, in \u001b[0;36mYoutubeDL.report_error\u001b[1;34m(self, message, *args, **kwargs)\u001b[0m\n\u001b[0;32m   1037\u001b[0m \u001b[39mdef\u001b[39;00m \u001b[39mreport_error\u001b[39m(\u001b[39mself\u001b[39m, message, \u001b[39m*\u001b[39margs, \u001b[39m*\u001b[39m\u001b[39m*\u001b[39mkwargs):\n\u001b[0;32m   1038\u001b[0m \u001b[39m    \u001b[39m\u001b[39m'''\u001b[39;00m\n\u001b[0;32m   1039\u001b[0m \u001b[39m    Do the same as trouble, but prefixes the message with 'ERROR:', colored\u001b[39;00m\n\u001b[0;32m   1040\u001b[0m \u001b[39m    in red if stderr is a tty file.\u001b[39;00m\n\u001b[0;32m   1041\u001b[0m \u001b[39m    '''\u001b[39;00m\n\u001b[1;32m-> 1042\u001b[0m     \u001b[39mself\u001b[39;49m\u001b[39m.\u001b[39;49mtrouble(\u001b[39mf\u001b[39;49m\u001b[39m'\u001b[39;49m\u001b[39m{\u001b[39;49;00m\u001b[39mself\u001b[39;49m\u001b[39m.\u001b[39;49m_format_err(\u001b[39m\"\u001b[39;49m\u001b[39mERROR:\u001b[39;49m\u001b[39m\"\u001b[39;49m,\u001b[39m \u001b[39;49m\u001b[39mself\u001b[39;49m\u001b[39m.\u001b[39;49mStyles\u001b[39m.\u001b[39;49mERROR)\u001b[39m}\u001b[39;49;00m\u001b[39m \u001b[39;49m\u001b[39m{\u001b[39;49;00mmessage\u001b[39m}\u001b[39;49;00m\u001b[39m'\u001b[39;49m, \u001b[39m*\u001b[39;49margs, \u001b[39m*\u001b[39;49m\u001b[39m*\u001b[39;49mkwargs)\n",
      "File \u001b[1;32md:\\Work\\R&D\\LLM\\venv\\Lib\\site-packages\\yt_dlp\\YoutubeDL.py:981\u001b[0m, in \u001b[0;36mYoutubeDL.trouble\u001b[1;34m(self, message, tb, is_error)\u001b[0m\n\u001b[0;32m    979\u001b[0m     \u001b[39melse\u001b[39;00m:\n\u001b[0;32m    980\u001b[0m         exc_info \u001b[39m=\u001b[39m sys\u001b[39m.\u001b[39mexc_info()\n\u001b[1;32m--> 981\u001b[0m     \u001b[39mraise\u001b[39;00m DownloadError(message, exc_info)\n\u001b[0;32m    982\u001b[0m \u001b[39mself\u001b[39m\u001b[39m.\u001b[39m_download_retcode \u001b[39m=\u001b[39m \u001b[39m1\u001b[39m\n",
      "\u001b[1;31mDownloadError\u001b[0m: ERROR: Postprocessing: ffprobe and ffmpeg not found. Please install or provide the path using --ffmpeg-location"
     ]
    }
   ],
   "source": [
    "url=\"https://www.youtube.com/watch?v=jGwO_UgTS7I\"\n",
    "save_dir=\"docs/youtube/\"\n",
    "loader = GenericLoader(\n",
    "    YoutubeAudioLoader([url],save_dir),\n",
    "    OpenAIWhisperParser()\n",
    ")\n",
    "docs = loader.load()"
   ]
  },
  {
   "cell_type": "code",
   "execution_count": 12,
   "metadata": {},
   "outputs": [
    {
     "ename": "NameError",
     "evalue": "name 'docs' is not defined",
     "output_type": "error",
     "traceback": [
      "\u001b[1;31m---------------------------------------------------------------------------\u001b[0m",
      "\u001b[1;31mNameError\u001b[0m                                 Traceback (most recent call last)",
      "Cell \u001b[1;32mIn[12], line 1\u001b[0m\n\u001b[1;32m----> 1\u001b[0m docs[\u001b[39m0\u001b[39m]\u001b[39m.\u001b[39mpage_content[\u001b[39m0\u001b[39m:\u001b[39m500\u001b[39m]\n",
      "\u001b[1;31mNameError\u001b[0m: name 'docs' is not defined"
     ]
    }
   ],
   "source": [
    "docs[0].page_content[0:500]"
   ]
  },
  {
   "cell_type": "markdown",
   "metadata": {},
   "source": [
    "## URLs"
   ]
  },
  {
   "cell_type": "code",
   "execution_count": 13,
   "metadata": {},
   "outputs": [],
   "source": [
    "from langchain.document_loaders import WebBaseLoader\n",
    "\n",
    "loader = WebBaseLoader(\"https://github.com/basecamp/handbook/blob/master/37signals-is-you.md\")"
   ]
  },
  {
   "cell_type": "code",
   "execution_count": 14,
   "metadata": {},
   "outputs": [],
   "source": [
    "docs = loader.load()"
   ]
  },
  {
   "cell_type": "code",
   "execution_count": 15,
   "metadata": {},
   "outputs": [
    {
     "name": "stdout",
     "output_type": "stream",
     "text": [
      "\n",
      "\n",
      "\n",
      "\n",
      "\n",
      "\n",
      "\n",
      "\n",
      "\n",
      "\n",
      "\n",
      "\n",
      "\n",
      "\n",
      "\n",
      "\n",
      "\n",
      "\n",
      "\n",
      "\n",
      "\n",
      "\n",
      "\n",
      "\n",
      "\n",
      "\n",
      "\n",
      "\n",
      "\n",
      "\n",
      "\n",
      "\n",
      "\n",
      "\n",
      "\n",
      "\n",
      "\n",
      "\n",
      "\n",
      "\n",
      "\n",
      "\n",
      "\n",
      "\n",
      "\n",
      "\n",
      "\n",
      "\n",
      "\n",
      "\n",
      "\n",
      "\n",
      "\n",
      "\n",
      "\n",
      "\n",
      "\n",
      "\n",
      "\n",
      "\n",
      "\n",
      "\n",
      "\n",
      "\n",
      "\n",
      "\n",
      "\n",
      "\n",
      "\n",
      "\n",
      "\n",
      "\n",
      "\n",
      "\n",
      "handbook/37signals-is-you.md at master · basecamp/handbook · GitHub\n",
      "\n",
      "\n",
      "\n",
      "\n",
      "\n",
      "\n",
      "\n",
      "\n",
      "\n",
      "\n",
      "\n",
      "\n",
      "\n",
      "\n",
      "\n",
      "\n",
      "\n",
      "\n",
      "\n",
      "\n",
      "\n",
      "\n",
      "\n",
      "\n",
      "\n",
      "\n",
      "\n",
      "\n",
      "\n",
      "\n",
      "\n",
      "\n",
      "\n",
      "\n",
      "\n",
      "\n",
      "\n",
      "\n",
      "\n",
      "\n",
      "\n",
      "\n",
      "\n",
      "\n",
      "\n",
      "\n",
      "\n",
      "\n",
      "\n",
      "Skip to content\n",
      "\n",
      "\n",
      "\n",
      "\n",
      "\n",
      "\n",
      "\n",
      "Toggle navigation\n",
      "\n",
      "\n",
      "\n",
      "\n",
      "\n",
      "\n",
      "\n",
      "\n",
      "\n",
      "\n",
      "            Sign up\n",
      "          \n",
      "\n",
      "\n",
      " \n",
      "\n",
      "\n",
      "\n",
      "\n",
      "\n",
      "\n",
      "\n",
      "\n",
      "\n",
      "\n",
      "\n",
      "\n",
      "\n",
      "        Product\n",
      "        \n",
      "\n",
      "\n",
      "\n",
      "\n",
      "\n",
      "\n",
      "\n",
      "\n",
      "\n",
      "\n",
      "\n",
      "\n",
      "Actions\n",
      "        Automate any workflow\n",
      "      \n",
      "\n",
      "\n",
      "\n",
      "\n",
      "\n",
      "\n",
      "\n",
      "Packages\n",
      "        Host and manage packages\n",
      "      \n",
      "\n",
      "\n",
      "\n",
      "\n",
      "\n",
      "\n",
      "\n",
      "Security\n",
      "        Find and fix vulnerabilities\n",
      "      \n",
      "\n",
      "\n",
      "\n",
      "\n",
      "\n",
      "\n",
      "\n",
      "Codes\n"
     ]
    }
   ],
   "source": [
    "print(docs[0].page_content[:500])"
   ]
  },
  {
   "cell_type": "markdown",
   "metadata": {},
   "source": [
    "Follow steps [here](https://python.langchain.com/docs/modules/data_connection/document_loaders/integrations/notion) for an example Notion site such as [this one](https://yolospace.notion.site/Blendle-s-Employee-Handbook-e31bff7da17346ee99f531087d8b133f):\n",
    "\n",
    "* Duplicate the page into your own Notion space and export as `Markdown / CSV`.\n",
    "* Unzip it and save it as a folder that contains the markdown file for the Notion page.\n",
    " "
   ]
  },
  {
   "cell_type": "code",
   "execution_count": null,
   "metadata": {},
   "outputs": [],
   "source": [
    "from langchain.document_loaders import NotionDirectoryLoader\n",
    "loader = NotionDirectoryLoader(\"docs/Notion_DB\")\n",
    "docs = loader.load()"
   ]
  },
  {
   "cell_type": "code",
   "execution_count": null,
   "metadata": {},
   "outputs": [],
   "source": [
    "print(docs[0].page_content[0:200])"
   ]
  },
  {
   "cell_type": "code",
   "execution_count": null,
   "metadata": {},
   "outputs": [],
   "source": [
    "docs[0].metadata"
   ]
  }
 ],
 "metadata": {
  "kernelspec": {
   "display_name": "venv",
   "language": "python",
   "name": "python3"
  },
  "language_info": {
   "codemirror_mode": {
    "name": "ipython",
    "version": 3
   },
   "file_extension": ".py",
   "mimetype": "text/x-python",
   "name": "python",
   "nbconvert_exporter": "python",
   "pygments_lexer": "ipython3",
   "version": "3.11.0"
  },
  "orig_nbformat": 4
 },
 "nbformat": 4,
 "nbformat_minor": 2
}
